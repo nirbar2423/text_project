{
  "nbformat": 4,
  "nbformat_minor": 0,
  "metadata": {
    "colab": {
      "name": "colab_font (1).ipynb",
      "provenance": [],
      "collapsed_sections": []
    },
    "kernelspec": {
      "name": "python3",
      "display_name": "Python 3"
    },
    "accelerator": "GPU"
  },
  "cells": [
    {
      "cell_type": "code",
      "metadata": {
        "id": "UDC8jG1RM0Do"
      },
      "source": [
        "\"\"\"\r\n",
        "Created on Wed Dec  9 11:44:55 2020\r\n",
        "\r\n",
        "@author: Nir Bar\r\n",
        "\"\"\"\r\n",
        "\r\n",
        "import cv2\r\n",
        "import matplotlib.pyplot as plt\r\n",
        "import numpy as np\r\n",
        "import h5py\r\n",
        "import keras\r\n",
        "import tensorflow\r\n",
        "from xlwt import Workbook \r\n",
        "from google.colab import files\r\n",
        "from google.colab import drive\r\n",
        "drive.mount('/content/gdrive')"
      ],
      "execution_count": null,
      "outputs": []
    },
    {
      "cell_type": "markdown",
      "metadata": {
        "id": "xvlwVW8O9PLC"
      },
      "source": [
        "\r\n",
        "\r\n",
        "\r\n",
        "# creating x_train y_train"
      ]
    },
    {
      "cell_type": "markdown",
      "metadata": {
        "id": "DfkZeo6e9IOF"
      },
      "source": [
        ""
      ]
    },
    {
      "cell_type": "code",
      "metadata": {
        "id": "8xfRPjANQEQM"
      },
      "source": [
        "x_train = []\r\n",
        "y_train = []\r\n",
        "# getting the chars from the second train data\r\n",
        "db = h5py.File('gdrive/My Drive/SynthText.h5', 'r')\r\n",
        "im_names = list(db['data'].keys())\r\n",
        "for k in range (len(im_names)):# runnig throw all data\r\n",
        "        im = im_names[k]\r\n",
        "        imgs = db['data'][im][:]#the names of the images have no effect on the model\r\n",
        "        font = db['data'][im].attrs['font']# the type of the font\r\n",
        "        txt = db['data'][im].attrs['txt'] # the char\r\n",
        "        charBB = db['data'][im].attrs['charBB']# the position of the char\r\n",
        "        wordBB = db['data'][im].attrs['wordBB']# the position of the word\r\n",
        "        # building a loop to get evry char in to a 50*50 image\r\n",
        "        for i in range(len(charBB[0,0])): \r\n",
        "            pts1 = np.float32([charBB[:,:,i].T[0],charBB[:,:,i].T[1],charBB[:,:,i].T[3],charBB[:,:,i].T[2]])\r\n",
        "            pts2 = np.float32([[0,0],[400,0],[0,400],[400,400]])\r\n",
        "            M = cv2.getPerspectiveTransform(pts1,pts2)\r\n",
        "            dst = cv2.warpPerspective(imgs,M,(400,400))\r\n",
        "            dst = cv2.pyrDown(cv2.pyrDown((cv2.pyrDown(dst))))\r\n",
        "            dst = (dst/255.).astype(np.float16)\r\n",
        "            # set the x_train and y_train for the model\r\n",
        "            x_train.append(dst)\r\n",
        "            y_train.append(font[i].decode('UTF-8'))"
      ],
      "execution_count": 18,
      "outputs": []
    },
    {
      "cell_type": "code",
      "metadata": {
        "id": "9XNrEXVe5g5x"
      },
      "source": [
        "# getting the chars from the second train data\r\n",
        "db = h5py.File('gdrive/My Drive/train.h5', 'r')\r\n",
        "im_names = list(db['data'].keys())\r\n",
        "for k in range (len(im_names)):\r\n",
        "        im = im_names[k]\r\n",
        "        imgs = db['data'][im][:]\r\n",
        "        font = db['data'][im].attrs['font']\r\n",
        "        txt = db['data'][im].attrs['txt']\r\n",
        "        charBB = db['data'][im].attrs['charBB']\r\n",
        "        wordBB = db['data'][im].attrs['wordBB']\r\n",
        "        for i in range(len(charBB[0,0])):\r\n",
        "            pts1 = np.float32([charBB[:,:,i].T[0],charBB[:,:,i].T[1],charBB[:,:,i].T[3],charBB[:,:,i].T[2]])\r\n",
        "            pts2 = np.float32([[0,0],[400,0],[0,400],[400,400]])\r\n",
        "            M = cv2.getPerspectiveTransform(pts1,pts2)\r\n",
        "            dst = cv2.warpPerspective(imgs,M,(400,400))\r\n",
        "            dst = cv2.pyrDown(cv2.pyrDown((cv2.pyrDown(dst))))\r\n",
        "            dst = (dst/255.).astype(np.float16)\r\n",
        "            x_train.append(dst)\r\n",
        "            y_train.append(font[i].decode('UTF-8'))"
      ],
      "execution_count": 19,
      "outputs": []
    },
    {
      "cell_type": "markdown",
      "metadata": {
        "id": "h1zR9xcB9pWD"
      },
      "source": [
        "\r\n",
        "# Creating x_val y_val"
      ]
    },
    {
      "cell_type": "code",
      "metadata": {
        "id": "_GMphEgQ9xv3"
      },
      "source": [
        "# creating the valuation data will be simillar to the train data\r\n",
        "x_val = []\r\n",
        "y_val = []\r\n",
        "db = h5py.File('gdrive/My Drive/SynthText_val.h5', 'r')\r\n",
        "im_names = list(db['data'].keys())\r\n",
        "for k in range(len(im_names)):\r\n",
        "        im = im_names[k]\r\n",
        "        imgs = db['data'][im][:]\r\n",
        "        font = db['data'][im].attrs['font']\r\n",
        "        txt = db['data'][im].attrs['txt']\r\n",
        "        charBB = db['data'][im].attrs['charBB']\r\n",
        "        wordBB = db['data'][im].attrs['wordBB']\r\n",
        "        for i in range(len(charBB[0,0])):\r\n",
        "            pts1 = np.float32([charBB[:,:,i].T[0],charBB[:,:,i].T[1],charBB[:,:,i].T[3],charBB[:,:,i].T[2]])\r\n",
        "            pts2 = np.float32([[0,0],[400,0],[0,400],[400,400]])\r\n",
        "            M = cv2.getPerspectiveTransform(pts1,pts2)\r\n",
        "            dst = cv2.warpPerspective(imgs,M,(400,400))\r\n",
        "            dst = cv2.pyrDown(cv2.pyrDown((cv2.pyrDown(dst))))\r\n",
        "            dst = (dst/255.).astype(np.float16)\r\n",
        "            x_val.append(dst)\r\n",
        "            y_val.append(font[i].decode('UTF-8'))\r\n"
      ],
      "execution_count": 20,
      "outputs": []
    },
    {
      "cell_type": "markdown",
      "metadata": {
        "id": "jApWo0FH9973"
      },
      "source": [
        "\r\n",
        "# preprocessing data"
      ]
    },
    {
      "cell_type": "code",
      "metadata": {
        "id": "1NcSfcRsPior"
      },
      "source": [
        "# transform all the data for the model into asarray type\r\n",
        "x_train = np.asarray(x_train)\r\n",
        "y_train = np.asarray(y_train)\r\n",
        "x_val = np.asarray(x_val)\r\n",
        "y_val = np.asarray(y_val)"
      ],
      "execution_count": 21,
      "outputs": []
    },
    {
      "cell_type": "code",
      "metadata": {
        "id": "xVhLMmglGzh1"
      },
      "source": [
        "def to_numeric(x):\r\n",
        "  '''function that gives the labels integers values.'''\r\n",
        "    return [0 if i=='Ubuntu Mono' else 1 if i=='Skylark' else 2 for i in x]\r\n",
        "y_train = to_numeric(y_train)\r\n",
        "y_val = to_numeric(y_val)"
      ],
      "execution_count": 22,
      "outputs": []
    },
    {
      "cell_type": "code",
      "metadata": {
        "id": "Et1FrevJG7YB",
        "colab": {
          "base_uri": "https://localhost:8080/"
        },
        "outputId": "552f9523-93ab-47ea-a7ca-d1ba81b033d5"
      },
      "source": [
        "# we will set the labels data to fit ti the image objects size and shape\r\n",
        "y_train = tensorflow.keras.utils.to_categorical(y_train, num_classes=3)\r\n",
        "y_val = tensorflow.keras.utils.to_categorical(y_val, num_classes=3)\r\n",
        "y_train = tensorflow.constant(y_train, shape=[38308,3])\r\n",
        "y_val = tensorflow.constant(y_val, shape=[8198,3])\r\n",
        "tensorflow.dtypes.cast(y_train, tensorflow.uint8)\r\n",
        "tensorflow.dtypes.cast(y_val, tensorflow.uint8)"
      ],
      "execution_count": 23,
      "outputs": [
        {
          "output_type": "execute_result",
          "data": {
            "text/plain": [
              "<tf.Tensor: shape=(8198, 3), dtype=uint8, numpy=\n",
              "array([[1, 0, 0],\n",
              "       [1, 0, 0],\n",
              "       [1, 0, 0],\n",
              "       ...,\n",
              "       [1, 0, 0],\n",
              "       [1, 0, 0],\n",
              "       [1, 0, 0]], dtype=uint8)>"
            ]
          },
          "metadata": {
            "tags": []
          },
          "execution_count": 23
        }
      ]
    },
    {
      "cell_type": "markdown",
      "metadata": {
        "id": "QiVRtSyc-v0z"
      },
      "source": [
        "# the model"
      ]
    },
    {
      "cell_type": "code",
      "metadata": {
        "id": "1o1dHcooIUDJ"
      },
      "source": [
        "def initialize_model():\r\n",
        "    model = tensorflow.keras.models.Sequential([\r\n",
        "    # Note the input shape is the desired size of the image 50x50 with 3 bytes color\r\n",
        "    # This is the first convolution\r\n",
        "    tensorflow.keras.layers.Conv2D(64, (3,3), padding='same', activation='relu', input_shape=(50, 50,3)),\r\n",
        "    tensorflow.keras.layers.MaxPooling2D(2, 2),\r\n",
        "    # The second convolution\r\n",
        "    # tf.keras.layers.Conv2D(128, (3,3), padding='same', activation='relu'),\r\n",
        "    # tf.keras.layers.MaxPooling2D(2,2),\r\n",
        "    # The third convolution\r\n",
        "    tensorflow.keras.layers.Conv2D(128, (3,3), padding='same', activation='relu'),\r\n",
        "    tensorflow.keras.layers.MaxPooling2D(2,2),\r\n",
        "    # The fourth convolution\r\n",
        "    # tf.keras.layers.Conv2D(256, (3,3), padding='same', activation='relu'),\r\n",
        "    # tf.keras.layers.MaxPooling2D(2,2),\r\n",
        "    #tensorflow.keras.layers.Conv2D(256, (3,3), padding='same', activation='relu'),\r\n",
        "    #tensorflow.keras.layers.MaxPooling2D(2,2),\r\n",
        "    # The fifth convolution\r\n",
        "    tf.keras.layers.Conv2D(256, (3,3), padding='same', activation='relu'),\r\n",
        "    tf.keras.layers.MaxPooling2D(2,2),\r\n",
        "    # Flatten the results to feed into a DNN\r\n",
        "    tensorflow.keras.layers.Flatten(),\r\n",
        "    tensorflow.keras.layers.Dropout(0.5),\r\n",
        "    # 4096 neuron hidden layer\r\n",
        "    tensorflow.keras.layers.Dense(4096, activation='relu'),\r\n",
        "    tensorflow.keras.layers.Dense(3, activation='softmax'),\r\n",
        "])\r\n",
        "    return model"
      ],
      "execution_count": 62,
      "outputs": []
    },
    {
      "cell_type": "code",
      "metadata": {
        "id": "KgG_l4UmX_08"
      },
      "source": [
        "def compile_model(model):\r\n",
        "    model.compile(loss='categorical_crossentropy',\r\n",
        "                  optimizer='adam',\r\n",
        "                  metrics=['accuracy'])\r\n",
        "    return model"
      ],
      "execution_count": 63,
      "outputs": []
    },
    {
      "cell_type": "code",
      "metadata": {
        "colab": {
          "base_uri": "https://localhost:8080/"
        },
        "id": "5OUZgDsIax9Z",
        "outputId": "989a5a70-2b07-48ab-c256-94e89e03cca6"
      },
      "source": [
        "#trainning the model with the data and labels\r\n",
        "model = initialize_model()\r\n",
        "model = compile_model(model)\r\n",
        "\r\n",
        "es = EarlyStopping(patience=5, verbose=1, restore_best_weights=True)\r\n",
        "\r\n",
        "history = model.fit(x_train, y_train,\r\n",
        "                    validation_split=0.3,\r\n",
        "                    callbacks=[es], \r\n",
        "                    epochs=100, \r\n",
        "                    batch_size=32)"
      ],
      "execution_count": 66,
      "outputs": [
        {
          "output_type": "stream",
          "text": [
            "Epoch 1/100\n",
            "838/838 [==============================] - 15s 18ms/step - loss: 0.7168 - accuracy: 0.7034 - val_loss: 0.2507 - val_accuracy: 0.9155\n",
            "Epoch 2/100\n",
            "838/838 [==============================] - 14s 17ms/step - loss: 0.2350 - accuracy: 0.9103 - val_loss: 0.1791 - val_accuracy: 0.9336\n",
            "Epoch 3/100\n",
            "838/838 [==============================] - 14s 17ms/step - loss: 0.1780 - accuracy: 0.9331 - val_loss: 0.1543 - val_accuracy: 0.9398\n",
            "Epoch 4/100\n",
            "838/838 [==============================] - 14s 17ms/step - loss: 0.1437 - accuracy: 0.9452 - val_loss: 0.1474 - val_accuracy: 0.9441\n",
            "Epoch 5/100\n",
            "838/838 [==============================] - 14s 17ms/step - loss: 0.1258 - accuracy: 0.9510 - val_loss: 0.1381 - val_accuracy: 0.9480\n",
            "Epoch 6/100\n",
            "838/838 [==============================] - 14s 17ms/step - loss: 0.1095 - accuracy: 0.9564 - val_loss: 0.1375 - val_accuracy: 0.9476\n",
            "Epoch 7/100\n",
            "838/838 [==============================] - 14s 17ms/step - loss: 0.0974 - accuracy: 0.9618 - val_loss: 0.1490 - val_accuracy: 0.9445\n",
            "Epoch 8/100\n",
            "838/838 [==============================] - 14s 17ms/step - loss: 0.0874 - accuracy: 0.9672 - val_loss: 0.1295 - val_accuracy: 0.9513\n",
            "Epoch 9/100\n",
            "838/838 [==============================] - 14s 17ms/step - loss: 0.0818 - accuracy: 0.9690 - val_loss: 0.1399 - val_accuracy: 0.9543\n",
            "Epoch 10/100\n",
            "838/838 [==============================] - 14s 17ms/step - loss: 0.0679 - accuracy: 0.9741 - val_loss: 0.1264 - val_accuracy: 0.9520\n",
            "Epoch 11/100\n",
            "838/838 [==============================] - 14s 17ms/step - loss: 0.0686 - accuracy: 0.9733 - val_loss: 0.1412 - val_accuracy: 0.9524\n",
            "Epoch 12/100\n",
            "838/838 [==============================] - 14s 17ms/step - loss: 0.0685 - accuracy: 0.9734 - val_loss: 0.1244 - val_accuracy: 0.9565\n",
            "Epoch 13/100\n",
            "838/838 [==============================] - 14s 17ms/step - loss: 0.0596 - accuracy: 0.9789 - val_loss: 0.1228 - val_accuracy: 0.9563\n",
            "Epoch 14/100\n",
            "838/838 [==============================] - 14s 17ms/step - loss: 0.0510 - accuracy: 0.9824 - val_loss: 0.1314 - val_accuracy: 0.9537\n",
            "Epoch 15/100\n",
            "838/838 [==============================] - 14s 17ms/step - loss: 0.0506 - accuracy: 0.9811 - val_loss: 0.1406 - val_accuracy: 0.9524\n",
            "Epoch 16/100\n",
            "838/838 [==============================] - 14s 17ms/step - loss: 0.0453 - accuracy: 0.9823 - val_loss: 0.1303 - val_accuracy: 0.9566\n",
            "Epoch 17/100\n",
            "838/838 [==============================] - 14s 17ms/step - loss: 0.0451 - accuracy: 0.9842 - val_loss: 0.1265 - val_accuracy: 0.9598\n",
            "Epoch 18/100\n",
            "838/838 [==============================] - 14s 17ms/step - loss: 0.0504 - accuracy: 0.9829 - val_loss: 0.1411 - val_accuracy: 0.9584\n",
            "Restoring model weights from the end of the best epoch.\n",
            "Epoch 00018: early stopping\n"
          ],
          "name": "stdout"
        }
      ]
    },
    {
      "cell_type": "code",
      "metadata": {
        "id": "Wj15rHkNftuh",
        "colab": {
          "base_uri": "https://localhost:8080/",
          "height": 573
        },
        "outputId": "b31a20eb-3cdd-4460-b51f-f1a68ce4ab6f"
      },
      "source": [
        "#a plot to the models accuracy as a function of the epoches\r\n",
        "plt.plot(history.history['accuracy'])\r\n",
        "plt.plot(history.history['val_accuracy'])\r\n",
        "plt.title('model accuracy')\r\n",
        "plt.ylabel('accuracy')\r\n",
        "plt.xlabel('epoch')\r\n",
        "plt.legend(['train', 'validation'], loc='upper left')\r\n",
        "plt.show()\r\n",
        "#a plot to the models loss as a function of the epoches\r\n",
        "plt.plot(history.history['loss'])\r\n",
        "plt.plot(history.history['val_loss'])\r\n",
        "plt.title('model loss')\r\n",
        "plt.ylabel('loss')\r\n",
        "plt.xlabel('epoch')\r\n",
        "plt.legend(['train', 'validation'], loc='upper left')\r\n",
        "plt.show()"
      ],
      "execution_count": 67,
      "outputs": [
        {
          "output_type": "display_data",
          "data": {
            "image/png": "[encoded data removed]",
            "text/plain": [
              "<Figure size 432x288 with 1 Axes>"
            ]
          },
          "metadata": {
            "tags": [],
            "needs_background": "light"
          }
        },
        {
          "output_type": "display_data",
          "data": {
            "image/png": "[encoded data removed]",
            "text/plain": [
              "<Figure size 432x288 with 1 Axes>"
            ]
          },
          "metadata": {
            "tags": [],
            "needs_background": "light"
          }
        }
      ]
    },
    {
      "cell_type": "code",
      "metadata": {
        "id": "LmB_VXQsCkv4",
        "colab": {
          "base_uri": "https://localhost:8080/"
        },
        "outputId": "a9a4ed8e-962f-40e4-ab76-7a14729148a2"
      },
      "source": [
        "#we will check for the models ideals accuracy and loss\r\n",
        "score = model.evaluate(x_val, y_val, verbose=False)\r\n",
        "print('Loss: {}'.format(score[0]))\r\n",
        "print('Accuracy: {}%'.format(np.round(10000*score[1])/100))"
      ],
      "execution_count": 68,
      "outputs": [
        {
          "output_type": "stream",
          "text": [
            "Loss: 0.09539802372455597\n",
            "Accuracy: 96.94%\n"
          ],
          "name": "stdout"
        }
      ]
    },
    {
      "cell_type": "code",
      "metadata": {
        "id": "1utOLu3K78N-"
      },
      "source": [
        "model.save('gdrive/My Drive/project_model.h5')"
      ],
      "execution_count": 69,
      "outputs": []
    },
    {
      "cell_type": "code",
      "metadata": {
        "id": "nsEGkrPq-umY"
      },
      "source": [
        "#load the model from here #####################################\r\n",
        "###############################################################\r\n",
        "###############################################################\r\n",
        "###############################################################\r\n",
        "model = keras.models.load_model('gdrive/My Drive/project_model.h5')"
      ],
      "execution_count": 70,
      "outputs": []
    },
    {
      "cell_type": "code",
      "metadata": {
        "id": "x2_Yq8lLCjGM"
      },
      "source": [
        "#startting work on the test from here"
      ],
      "execution_count": 71,
      "outputs": []
    },
    {
      "cell_type": "code",
      "metadata": {
        "id": "BfUI6KR1C_rn"
      },
      "source": [
        "#getting the data from the test file\r\n",
        "x_test = []\r\n",
        "db = h5py.File('gdrive/My Drive/test.h5', 'r')# add your test path to here\r\n",
        "im_names = list(db['data'].keys())\r\n",
        "for k in range (len(im_names)):\r\n",
        "        im = im_names[k]\r\n",
        "        imgs = db['data'][im][:]\r\n",
        "        txt = db['data'][im].attrs['txt']\r\n",
        "        charBB = db['data'][im].attrs['charBB']\r\n",
        "        wordBB = db['data'][im].attrs['wordBB']\r\n",
        "        for i in range(len(charBB[0,0])):\r\n",
        "            pts1 = np.float32([charBB[:,:,i].T[0],charBB[:,:,i].T[1],charBB[:,:,i].T[3],charBB[:,:,i].T[2]])\r\n",
        "            pts2 = np.float32([[0,0],[400,0],[0,400],[400,400]])\r\n",
        "            M = cv2.getPerspectiveTransform(pts1,pts2)\r\n",
        "            dst = cv2.warpPerspective(imgs,M,(400,400))\r\n",
        "            dst = cv2.pyrDown(cv2.pyrDown((cv2.pyrDown(dst))))\r\n",
        "            dst = (dst/255.).astype(np.float16)\r\n",
        "            x_test.append(dst)\r\n",
        "        for i in range(len(txt)):#check if there are words with one or two chars\r\n",
        "          if len(txt[i])==1:\r\n",
        "            print('stop')\r\n",
        "          if len(txt[i])==2:\r\n",
        "            print('stop')\r\n"
      ],
      "execution_count": 72,
      "outputs": []
    },
    {
      "cell_type": "code",
      "metadata": {
        "id": "PS8y1vM2nb_n"
      },
      "source": [
        "#no labels\r\n",
        "x_test=np.array(x_test)"
      ],
      "execution_count": 75,
      "outputs": []
    },
    {
      "cell_type": "code",
      "metadata": {
        "id": "MYZ76UzQCXmc"
      },
      "source": [
        "y_prob = model.predict(x_test)# an array for the models prediction, values from 0 to 1\r\n",
        "y_prob_check = y_prob.copy()# an array to check if the loop works\r\n",
        "# change to binar values\r\n",
        "for i in range(len(y_prob)):\r\n",
        "    if max(y_prob[i,0],y_prob[i,1],y_prob[i,2])==y_prob[i,0]:\r\n",
        "      y_prob[i] = [1,0,0]\r\n",
        "    if max(y_prob[i,0],y_prob[i,1],y_prob[i,2]) == y_prob[i,1]: \r\n",
        "      y_prob[i] = [0,1,0]\r\n",
        "    if max(y_prob[i,0],y_prob[i,1],y_prob[i,2]) == y_prob[i,2]:\r\n",
        "      y_prob[i] = [0,0,1]\r\n",
        "# in the same word all the fonts are the same, \r\n",
        "#we will make sure that all the chars in the same word are ditected as the same font\r\n",
        "for i in range(len(y_prob)-2):\r\n",
        "  if (y_prob[i,0] == y_prob[i+2,0]):\r\n",
        "    if (y_prob[i,0]!= y_prob[i+1,0]):\r\n",
        "      y_prob[i+1,0] = y_prob[i,0]  \r\n",
        "for i in range(len(y_prob)-2):\r\n",
        "  if (y_prob[i,1] == y_prob[i+2,1]):\r\n",
        "    if (y_prob[i,1]!= y_prob[i+1,1]):\r\n",
        "      y_prob[i+1,1] = y_prob[i,1]\r\n",
        "for i in range(len(y_prob)-2):\r\n",
        "  if (y_prob[i,2] == y_prob[i+2,2]):\r\n",
        "    if (y_prob[i,2]!= y_prob[i+1,2]):\r\n",
        "      y_prob[i+1,2] = y_prob[i,2]  \r\n"
      ],
      "execution_count": 76,
      "outputs": []
    },
    {
      "cell_type": "code",
      "metadata": {
        "id": "XrlmHZeJiBrA"
      },
      "source": [
        "# make sure we have no zero vectors\r\n",
        "for i in range(len(y_prob)):\r\n",
        "  if (y_prob[i,0] == 0):\r\n",
        "    if (y_prob[i,1] == 0):\r\n",
        "       if (y_prob[i,2] == 0):\r\n",
        "         y_prob[i]=y_prob[i-1]\r\n"
      ],
      "execution_count": 77,
      "outputs": []
    },
    {
      "cell_type": "code",
      "metadata": {
        "id": "eP98f59vGjN_"
      },
      "source": [
        "# getting the letters for the excel table\r\n",
        "def Convert(string):#function that splits string to chars \r\n",
        "  list1 = [] \r\n",
        "  list1[:0]=string \r\n",
        "  return list1 \r\n",
        "txt_table = []#an array that will contain all the texts\r\n",
        "pic_name = []#an array that will contain all the pictures names\r\n",
        "temp_txt =[]#a temporery array that will contain all the texts in words\r\n",
        "for i in range(len(im_names)):\r\n",
        "    im = im_names[i]\r\n",
        "    txt = db['data'][im].attrs['txt']\r\n",
        "    for k in range(len(txt)):\r\n",
        "      temp_txt = Convert(txt[k].decode('UTF-8'))\r\n",
        "      for j in range(len(temp_txt)):#second loop for letters from words\r\n",
        "        txt_table.append(temp_txt[j])\r\n",
        "        pic_name.append(im_names[i])"
      ],
      "execution_count": 78,
      "outputs": []
    },
    {
      "cell_type": "code",
      "metadata": {
        "id": "pHcnaCI3B90C"
      },
      "source": [
        "# Writing to an excel sheet \r\n",
        "import xlwt\r\n",
        "from xlwt import Workbook \r\n",
        "  \r\n",
        "# Workbook is created \r\n",
        "wb = Workbook() \r\n",
        "# add_sheet is used to create sheet. \r\n",
        "sheet1 = wb.add_sheet('Sheet 1')\r\n",
        "sheet1.write(0,0,'sn')\r\n",
        "sheet1.write(0,1,'image')\r\n",
        "sheet1.write(0,2,'char')\r\n",
        "sheet1.write(0,3,'skylark')\r\n",
        "sheet1.write(0,4,'sweet pup')\r\n",
        "sheet1.write(0,5,'ubunto mono')\r\n",
        "for i in range(len(y_prob)):\r\n",
        "  sheet1.write(i+1,1,pic_name[i])\r\n",
        "  sheet1.write(i+1,2,txt_table[i])\r\n",
        "  sheet1.write(i+1,5,int(y_prob[i,0]))\r\n",
        "  sheet1.write(i+1,3,int(y_prob[i,1]))\r\n",
        "  sheet1.write(i+1,4,int(y_prob[i,2]))\r\n",
        "wb.save('test_results.csv')"
      ],
      "execution_count": 80,
      "outputs": []
    },
    {
      "cell_type": "code",
      "metadata": {
        "colab": {
          "base_uri": "https://localhost:8080/",
          "height": 17
        },
        "id": "IhAM7_0gqzjI",
        "outputId": "d56fa769-c1a6-41b4-960a-0e13bd9d147e"
      },
      "source": [
        "from google.colab import files\r\n",
        "files.download('test_results.csv')"
      ],
      "execution_count": 81,
      "outputs": [
        {
          "output_type": "display_data",
          "data": {
            "application/javascript": [
              "\n",
              "    async function download(id, filename, size) {\n",
              "      if (!google.colab.kernel.accessAllowed) {\n",
              "        return;\n",
              "      }\n",
              "      const div = document.createElement('div');\n",
              "      const label = document.createElement('label');\n",
              "      label.textContent = `Downloading \"${filename}\": `;\n",
              "      div.appendChild(label);\n",
              "      const progress = document.createElement('progress');\n",
              "      progress.max = size;\n",
              "      div.appendChild(progress);\n",
              "      document.body.appendChild(div);\n",
              "\n",
              "      const buffers = [];\n",
              "      let downloaded = 0;\n",
              "\n",
              "      const channel = await google.colab.kernel.comms.open(id);\n",
              "      // Send a message to notify the kernel that we're ready.\n",
              "      channel.send({})\n",
              "\n",
              "      for await (const message of channel.messages) {\n",
              "        // Send a message to notify the kernel that we're ready.\n",
              "        channel.send({})\n",
              "        if (message.buffers) {\n",
              "          for (const buffer of message.buffers) {\n",
              "            buffers.push(buffer);\n",
              "            downloaded += buffer.byteLength;\n",
              "            progress.value = downloaded;\n",
              "          }\n",
              "        }\n",
              "      }\n",
              "      const blob = new Blob(buffers, {type: 'application/binary'});\n",
              "      const a = document.createElement('a');\n",
              "      a.href = window.URL.createObjectURL(blob);\n",
              "      a.download = filename;\n",
              "      div.appendChild(a);\n",
              "      a.click();\n",
              "      div.remove();\n",
              "    }\n",
              "  "
            ],
            "text/plain": [
              "<IPython.core.display.Javascript object>"
            ]
          },
          "metadata": {
            "tags": []
          }
        },
        {
          "output_type": "display_data",
          "data": {
            "application/javascript": [
              "download(\"download_c98d8540-338f-415e-98c7-82a7b6ccf0a1\", \"test_results.csv\", 922112)"
            ],
            "text/plain": [
              "<IPython.core.display.Javascript object>"
            ]
          },
          "metadata": {
            "tags": []
          }
        }
      ]
    }
  ]
}